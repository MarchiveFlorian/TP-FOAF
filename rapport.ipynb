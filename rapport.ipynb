{
 "cells": [
  {
   "cell_type": "markdown",
   "id": "8d3d426c",
   "metadata": {},
   "source": [
    "Exercice 1\n",
    "Créer son fichier foaf.rdf et l’associer à sa page « homepage » web (page de\n",
    "présentation).\n",
    "Déposer sur github (cf annexe)\n",
    "(cerise sur le gateau valider sa homepage par le validateur du w3c\n",
    "« https://www.w3.org/RDF/Validator/ »)\n"
   ]
  },
  {
   "cell_type": "markdown",
   "id": "3c13f2fa",
   "metadata": {},
   "source": [
    "J'ai commencé par créer mon repository github : "
   ]
  },
  {
   "cell_type": "code",
   "execution_count": null,
   "id": "41fb9643",
   "metadata": {
    "vscode": {
     "languageId": "plaintext"
    }
   },
   "outputs": [],
   "source": [
    "git init\n",
    "git add *\n",
    "git commit -m \"init\"\n",
    "git branch -M main\n",
    "git remote add origin git@github.com:MarchiveFlorian/TP-FOAF.git\n",
    "git push -u origin main"
   ]
  },
  {
   "cell_type": "markdown",
   "id": "9168c231",
   "metadata": {},
   "source": [
    "Le fichier foaf.rdf : "
   ]
  },
  {
   "cell_type": "code",
   "execution_count": null,
   "id": "efb416c9",
   "metadata": {
    "vscode": {
     "languageId": "plaintext"
    }
   },
   "outputs": [],
   "source": [
    "<?xml version=\"1.0\" encoding=\"UTF-8\"?>\n",
    "<rdf:RDF\n",
    "    xmlns:rdf=\"http://www.w3.org/1999/02/22-rdf-syntax-ns#\"\n",
    "    xmlns:foaf=\"http://xmlns.com/foaf/0.1/\">\n",
    "\n",
    "  <foaf:PersonalProfileDocument rdf:about=\"\">\n",
    "    <foaf:maker rdf:resource=\"#me\"/>\n",
    "    <foaf:primaryTopic rdf:resource=\"#me\"/>\n",
    "  </foaf:PersonalProfileDocument>\n",
    "\n",
    "  <foaf:Person rdf:ID=\"me\">\n",
    "    <foaf:name>Florian Marchive</foaf:name>\n",
    "    <foaf:givenName>Florian</foaf:givenName>\n",
    "    <foaf:familyName>Marchive</foaf:familyName>\n",
    "    <foaf:mbox rdf:resource=\"mailto:marchiveflorian@gmail.com\"/>\n",
    "    <foaf:homepage rdf:resource=\"https://marchiveflorian.github.io/TP-FOAF/foaf.rdf\"/>\n",
    "  </foaf:Person>\n",
    "\n",
    "</rdf:RDF>\n"
   ]
  },
  {
   "cell_type": "markdown",
   "id": "7f3d1fc3",
   "metadata": {},
   "source": [
    "La homepage : "
   ]
  },
  {
   "cell_type": "code",
   "execution_count": null,
   "id": "c0b03dd1",
   "metadata": {
    "vscode": {
     "languageId": "plaintext"
    }
   },
   "outputs": [],
   "source": [
    "<!DOCTYPE html>\n",
    "<html lang=\"fr\">\n",
    "<head>\n",
    "  <meta charset=\"UTF-8\">\n",
    "  <meta name=\"viewport\" content=\"width=device-width, initial-scale=1.0\">\n",
    "  <title>Florian Marchive - Présentation</title>\n",
    "  <link rel=\"meta\" type=\"application/rdf+xml\" title=\"FOAF\" href=\"foaf.rdf\" />\n",
    "</head>\n",
    "<body>\n",
    "  <header>\n",
    "    <h1>Bonjour, je suis Florian Marchive</h1>\n",
    "  </header>\n",
    "\n",
    "  <main>\n",
    "    <p>\n",
    "      Bienvenue sur ma page personnelle.  \n",
    "      Voici quelques infos à propos de moi :\n",
    "    </p>\n",
    "\n",
    "    <ul>\n",
    "      <li><strong>Nom :</strong> Florian Marchive</li>\n",
    "      <li><strong>Email :</strong> <a href=\"mailto:marchiveflorian@gmail.com\">marchiveflorian@gmail.com</a></li>\n",
    "    </ul>\n",
    "  </main>\n",
    "\n",
    "  <footer>\n",
    "    <p>2025 - Florian Marchive</p>\n",
    "  </footer>\n",
    "</body>\n",
    "</html>\n"
   ]
  }
 ],
 "metadata": {
  "language_info": {
   "name": "python"
  }
 },
 "nbformat": 4,
 "nbformat_minor": 5
}
