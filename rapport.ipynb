{
 "cells": [
  {
   "cell_type": "markdown",
   "id": "8d3d426c",
   "metadata": {},
   "source": [
    "Exercice 1\n",
    "Créer son fichier foaf.rdf et l’associer à sa page « homepage » web (page de\n",
    "présentation).\n",
    "Déposer sur github (cf annexe)\n",
    "(cerise sur le gateau valider sa homepage par le validateur du w3c\n",
    "« https://www.w3.org/RDF/Validator/ »)\n"
   ]
  },
  {
   "cell_type": "markdown",
   "id": "3c13f2fa",
   "metadata": {},
   "source": [
    "J'ai commencé par créer mon repository github : "
   ]
  },
  {
   "cell_type": "code",
   "execution_count": null,
   "id": "41fb9643",
   "metadata": {
    "vscode": {
     "languageId": "plaintext"
    }
   },
   "outputs": [],
   "source": [
    "git init\n",
    "git add *\n",
    "git commit -m \"init\"\n",
    "git branch -M main\n",
    "git remote add origin git@github.com:MarchiveFlorian/TP-FOAF.git\n",
    "git push -u origin main"
   ]
  },
  {
   "cell_type": "markdown",
   "id": "9168c231",
   "metadata": {},
   "source": [
    "Le fichier foaf.rdf : "
   ]
  },
  {
   "cell_type": "code",
   "execution_count": null,
   "id": "efb416c9",
   "metadata": {
    "vscode": {
     "languageId": "plaintext"
    }
   },
   "outputs": [],
   "source": [
    "<?xml version=\"1.0\" encoding=\"UTF-8\"?>\n",
    "<rdf:RDF\n",
    "    xmlns:rdf=\"http://www.w3.org/1999/02/22-rdf-syntax-ns#\"\n",
    "    xmlns:foaf=\"http://xmlns.com/foaf/0.1/\">\n",
    "\n",
    "  <foaf:PersonalProfileDocument rdf:about=\"\">\n",
    "    <foaf:maker rdf:resource=\"#me\"/>\n",
    "    <foaf:primaryTopic rdf:resource=\"#me\"/>\n",
    "  </foaf:PersonalProfileDocument>\n",
    "\n",
    "  <foaf:Person rdf:ID=\"me\">\n",
    "    <foaf:name>Florian Marchive</foaf:name>\n",
    "    <foaf:givenName>Florian</foaf:givenName>\n",
    "    <foaf:familyName>Marchive</foaf:familyName>\n",
    "    <foaf:mbox rdf:resource=\"mailto:marchiveflorian@gmail.com\"/>\n",
    "    <foaf:homepage rdf:resource=\"https://marchiveflorian.github.io/TP-FOAF/foaf.rdf\"/>\n",
    "  </foaf:Person>\n",
    "\n",
    "</rdf:RDF>\n"
   ]
  },
  {
   "cell_type": "markdown",
   "id": "7f3d1fc3",
   "metadata": {},
   "source": [
    "La homepage : "
   ]
  },
  {
   "cell_type": "code",
   "execution_count": null,
   "id": "c0b03dd1",
   "metadata": {
    "vscode": {
     "languageId": "plaintext"
    }
   },
   "outputs": [],
   "source": [
    "<!DOCTYPE html>\n",
    "<html lang=\"fr\">\n",
    "<head>\n",
    "  <meta charset=\"UTF-8\">\n",
    "  <meta name=\"viewport\" content=\"width=device-width, initial-scale=1.0\">\n",
    "  <title>Florian Marchive - Présentation</title>\n",
    "  <link rel=\"meta\" type=\"application/rdf+xml\" title=\"FOAF\" href=\"foaf.rdf\" />\n",
    "</head>\n",
    "<body>\n",
    "  <header>\n",
    "    <h1>Bonjour, je suis Florian Marchive</h1>\n",
    "  </header>\n",
    "\n",
    "  <main>\n",
    "    <p>\n",
    "      Bienvenue sur ma page personnelle.  \n",
    "      Voici quelques infos à propos de moi :\n",
    "    </p>\n",
    "\n",
    "    <ul>\n",
    "      <li><strong>Nom :</strong> Florian Marchive</li>\n",
    "      <li><strong>Email :</strong> <a href=\"mailto:marchiveflorian@gmail.com\">marchiveflorian@gmail.com</a></li>\n",
    "    </ul>\n",
    "  </main>\n",
    "\n",
    "  <footer>\n",
    "    <p>2025 - Florian Marchive</p>\n",
    "  </footer>\n",
    "</body>\n",
    "</html>\n"
   ]
  },
  {
   "cell_type": "markdown",
   "id": "d354fdf9",
   "metadata": {},
   "source": [
    "Le lien vers la homepage (minimaliste) : https://marchiveflorian.github.io/TP-FOAF/"
   ]
  },
  {
   "cell_type": "markdown",
   "id": "4f4d276d",
   "metadata": {},
   "source": [
    "Pour valider la homepage j'ai mis cette URI dans le w3 validator : https://marchiveflorian.github.io/TP-FOAF/foaf.rdf"
   ]
  },
  {
   "cell_type": "markdown",
   "id": "367d3f43",
   "metadata": {},
   "source": [
    "Résultat: \n",
    "\n",
    "![validator](validator.png)"
   ]
  },
  {
   "cell_type": "markdown",
   "id": "543630fb",
   "metadata": {},
   "source": [
    "---------"
   ]
  },
  {
   "cell_type": "markdown",
   "id": "962037e7",
   "metadata": {},
   "source": [
    "Exercice 2\n",
    "Créer un compte sur ORCID et utiliser curl pour récupérer les éléments de votre compte\n",
    "(en particulier avec les éléments foaf)\n"
   ]
  },
  {
   "cell_type": "markdown",
   "id": "e875adae",
   "metadata": {},
   "source": [
    "Voici ma page sur ORCID : https://orcid.org/0009-0009-4985-9514"
   ]
  },
  {
   "cell_type": "markdown",
   "id": "d675aab4",
   "metadata": {},
   "source": [
    "Récupération des éléments avec curl : "
   ]
  },
  {
   "cell_type": "code",
   "execution_count": null,
   "id": "eea49480",
   "metadata": {
    "vscode": {
     "languageId": "plaintext"
    }
   },
   "outputs": [],
   "source": [
    "PS C:\\WINDOWS\\system32> curl.exe -L -H \"Accept: text/turtle\" https://orcid.org/0009-0009-4985-9514\n",
    ">>\n",
    "@prefix foaf: <http://xmlns.com/foaf/0.1/> .\n",
    "@prefix gn:   <http://www.geonames.org/ontology#> .\n",
    "@prefix owl:  <http://www.w3.org/2002/07/owl#> .\n",
    "@prefix pav:  <http://purl.org/pav/> .\n",
    "@prefix prov: <http://www.w3.org/ns/prov#> .\n",
    "@prefix rdf:  <http://www.w3.org/1999/02/22-rdf-syntax-ns#> .\n",
    "@prefix rdfs: <http://www.w3.org/2000/01/rdf-schema#> .\n",
    "@prefix xsd:  <http://www.w3.org/2001/XMLSchema#> .\n",
    "\n",
    "<https://orcid.org/0009-0009-4985-9514>\n",
    "        rdf:type           prov:Person , foaf:Person ;\n",
    "        rdfs:label         \"Florian Marchive\" ;\n",
    "        foaf:account       <https://orcid.org/0009-0009-4985-9514#orcid-id> ;\n",
    "        foaf:familyName    \"Marchive\" ;\n",
    "        foaf:givenName     \"Florian\" ;\n",
    "        foaf:publications  <https://orcid.org/0009-0009-4985-9514#workspace-works> .\n",
    "\n",
    "<https://orcid.org/0009-0009-4985-9514#workspace-works>\n",
    "        rdf:type  foaf:Document .\n",
    "\n",
    "<https://orcid.org/0009-0009-4985-9514#orcid-id>\n",
    "        rdf:type                     foaf:OnlineAccount ;\n",
    "        rdfs:label                   \"0009-0009-4985-9514\" ;\n",
    "        foaf:accountName             \"0009-0009-4985-9514\" ;\n",
    "        foaf:accountServiceHomepage  <https://orcid.org> .\n",
    "\n",
    "<https://pub.orcid.org/orcid-pub-web/experimental_rdf_v1/0009-0009-4985-9514>\n",
    "        rdf:type              foaf:PersonalProfileDocument ;\n",
    "        pav:createdBy         <https://orcid.org/0009-0009-4985-9514> ;\n",
    "        pav:createdOn         \"2025-09-24T06:51:09.062Z\"^^xsd:dateTime ;\n",
    "        pav:createdWith       <https://orcid.org> ;\n",
    "        pav:lastUpdateOn      \"2025-09-24T06:52:42.478Z\"^^xsd:dateTime ;\n",
    "        prov:generatedAtTime  \"2025-09-24T06:52:42.478Z\"^^xsd:dateTime ;\n",
    "        prov:wasAttributedTo  <https://orcid.org/0009-0009-4985-9514> ;\n",
    "        foaf:maker            <https://orcid.org/0009-0009-4985-9514> ;\n",
    "        foaf:primaryTopic     <https://orcid.org/0009-0009-4985-9514> ."
   ]
  },
  {
   "cell_type": "markdown",
   "id": "466ff3fa",
   "metadata": {},
   "source": [
    "-----"
   ]
  },
  {
   "cell_type": "markdown",
   "id": "8ce7674d",
   "metadata": {},
   "source": [
    "Exercice 3\n",
    "Créer un compte sur https://solidweb.org/. Compléter son profil et inclure la description\n",
    "sous forme de triple dans votre rapport. On va utiliser une application (il faut être\n",
    "raisonnable dans les volumes de données) pour gérer une liste de film Media Kraken.\n",
    "Vous allez utiliser votre profil sur solidweb.org pour votre liste. Inclure votre liste sous\n",
    "forme de triple dans votre rapport.\n"
   ]
  },
  {
   "cell_type": "markdown",
   "id": "9fab3f2a",
   "metadata": {},
   "source": [
    "Mon compte solidweb : https://florianmarchive.solidweb.org/"
   ]
  },
  {
   "cell_type": "markdown",
   "id": "813120dd",
   "metadata": {},
   "source": [
    "Description : "
   ]
  },
  {
   "cell_type": "code",
   "execution_count": null,
   "id": "e0c1e72f",
   "metadata": {
    "vscode": {
     "languageId": "plaintext"
    }
   },
   "outputs": [],
   "source": [
    "@prefix : <#>.\n",
    "@prefix foaf: <http://xmlns.com/foaf/0.1/>.\n",
    "@prefix ldp: <http://www.w3.org/ns/ldp#>.\n",
    "@prefix schema: <http://schema.org/>.\n",
    "@prefix solid: <http://www.w3.org/ns/solid/terms#>.\n",
    "@prefix space: <http://www.w3.org/ns/pim/space#>.\n",
    "@prefix vcard: <http://www.w3.org/2006/vcard/ns#>.\n",
    "@prefix xsd: <http://www.w3.org/2001/XMLSchema#>.\n",
    "@prefix pro: <./>.\n",
    "@prefix inbox: </inbox/>.\n",
    "@prefix flori: </>.\n",
    "\n",
    "pro:card a foaf:PersonalProfileDocument; foaf:maker :me; foaf:primaryTopic :me.\n",
    "\n",
    ":id1758698538328\n",
    "    vcard:country-name \"France\";\n",
    "    vcard:locality \"La Rochelle\";\n",
    "    vcard:postal-code \"17000\";\n",
    "    vcard:region \"Nouvelle-Aquitaine\".\n",
    ":id1758698568749 a vcard:Home; vcard:value <mailto:marchiveflorian@gmail.com>.\n",
    "\n",
    ":me\n",
    "    a schema:Person, foaf:Person;\n",
    "    vcard:bday \"1995-03-28\"^^xsd:date;\n",
    "    vcard:fn \"Florian Marchive\";\n",
    "    vcard:hasAddress :id1758698538328;\n",
    "    vcard:hasEmail :id1758698568749;\n",
    "    vcard:organization-name \"La Rochelle Université\";\n",
    "    vcard:role \"Étudiant\";\n",
    "    ldp:inbox inbox:;\n",
    "    space:preferencesFile </settings/prefs.ttl>;\n",
    "    space:storage flori:;\n",
    "    solid:account flori:;\n",
    "    solid:oidcIssuer <https://solidweb.org>;\n",
    "    solid:privateTypeIndex </settings/privateTypeIndex.ttl>;\n",
    "    solid:publicTypeIndex </settings/publicTypeIndex.ttl>;\n",
    "    foaf:name \"Florian Marchive\"."
   ]
  },
  {
   "cell_type": "markdown",
   "id": "19a9943c",
   "metadata": {},
   "source": [
    "Liste de films : "
   ]
  },
  {
   "cell_type": "code",
   "execution_count": null,
   "id": "2ec6da74",
   "metadata": {
    "vscode": {
     "languageId": "plaintext"
    }
   },
   "outputs": [],
   "source": [
    "@prefix : <#>.\n",
    "@prefix dct: <http://purl.org/dc/terms/>.\n",
    "@prefix ldp: <http://www.w3.org/ns/ldp#>.\n",
    "@prefix rdfs: <http://www.w3.org/2000/01/rdf-schema#>.\n",
    "@prefix stat: <http://www.w3.org/ns/posix/stat#>.\n",
    "@prefix xsd: <http://www.w3.org/2001/XMLSchema#>.\n",
    "@prefix mov: <>.\n",
    "@prefix tur: <http://www.w3.org/ns/iana/media-types/text/turtle#>.\n",
    "\n",
    "mov:\n",
    "    a ldp:BasicContainer, ldp:Container;\n",
    "    dct:created \"2025-09-24T07:43:02Z\"^^xsd:dateTime;\n",
    "    dct:modified \"2025-09-24T07:45:40Z\"^^xsd:dateTime;\n",
    "    rdfs:label \"Movies\";\n",
    "    ldp:contains\n",
    "    mov:28-days-later-2002, mov:gran-torino-2008, mov:interstellar-2014;\n",
    "    stat:mtime 1758699940.49;\n",
    "    stat:size 4096 .\n",
    "mov:28-days-later-2002\n",
    "    a tur:Resource, ldp:Resource;\n",
    "    dct:modified \"2025-09-24T07:45:40Z\"^^xsd:dateTime;\n",
    "    stat:mtime 1758699940.49;\n",
    "    stat:size 948 .\n",
    "mov:gran-torino-2008\n",
    "    a tur:Resource, ldp:Resource;\n",
    "    dct:modified \"2025-09-24T07:45:39Z\"^^xsd:dateTime;\n",
    "    stat:mtime 1758699939.706;\n",
    "    stat:size 779 .\n",
    "mov:interstellar-2014\n",
    "    a tur:Resource, ldp:Resource;\n",
    "    dct:modified \"2025-09-24T07:45:40Z\"^^xsd:dateTime;\n",
    "    stat:mtime 1758699940.122;\n",
    "    stat:size 806 .\n"
   ]
  },
  {
   "cell_type": "markdown",
   "id": "8258c4ad",
   "metadata": {},
   "source": [
    "----"
   ]
  },
  {
   "cell_type": "markdown",
   "id": "07e460f8",
   "metadata": {},
   "source": [
    "Exercice 4\n",
    "Utiliser le moteur ldspider pour « crawler » vos pages et/ou « http://sixhillsconsulting.com/foaf/agueritz/foaf.rdf » pour découvrir d’autres personnes foaf. Conserver\n",
    "le résultat du crawling pour la suite. (On pourra utiliser tinyproxy pour simplifier l’utilisation\n",
    "du web sur les vm en salle réseau MSI)\n"
   ]
  },
  {
   "cell_type": "markdown",
   "id": "a708fa42",
   "metadata": {},
   "source": [
    "j'ai crée un fichier seeds.txt contenant l'url que je veux crawler avec ldspider."
   ]
  },
  {
   "cell_type": "markdown",
   "id": "208ce78e",
   "metadata": {},
   "source": [
    "Exemple de commande : "
   ]
  },
  {
   "cell_type": "code",
   "execution_count": null,
   "id": "ef4a90d1",
   "metadata": {
    "vscode": {
     "languageId": "plaintext"
    }
   },
   "outputs": [],
   "source": [
    "java -jar \"ldspider-1.3-with-dependencies.jar\" -s seeds.txt -b 1 10 2 -o tp_foaf_homepage_crawl.nt     "
   ]
  },
  {
   "cell_type": "markdown",
   "id": "559bae4d",
   "metadata": {},
   "source": [
    "Les résultats se trouvent dnas les fichiers \"tp_foaf_xxx_crawl.nt\""
   ]
  },
  {
   "cell_type": "markdown",
   "id": "19db2cfb",
   "metadata": {},
   "source": [
    "Concernant la demande de crawler avec uri : http://sixhillsconsulting.com/foaf/agueritz/foaf.rdf\n",
    "Le domaine sixhillsconsulting.com n’existe plus. Donc ldspider ne récupère aucun RDF et j'obtiens UnknownHostException"
   ]
  }
 ],
 "metadata": {
  "language_info": {
   "name": "python"
  }
 },
 "nbformat": 4,
 "nbformat_minor": 5
}
